{
 "cells": [
  {
   "cell_type": "code",
   "execution_count": 2,
   "metadata": {},
   "outputs": [],
   "source": [
    "%load_ext autoreload\n",
    "%autoreload 2\n",
    "\n",
    "import sys\n",
    "sys.path.append('./src')\n",
    "\n",
    "from plot import *\n",
    "from matrix import *\n",
    "from ordinate import *\n",
    "import pickle\n",
    "from transform import *\n",
    "import matplotlib.pyplot as plt\n",
    "import rdata"
   ]
  },
  {
   "cell_type": "code",
   "execution_count": 3,
   "metadata": {},
   "outputs": [],
   "source": [
    "DATA_DIR = '/home/prichter/Documents/trophy/data'"
   ]
  },
  {
   "cell_type": "markdown",
   "metadata": {},
   "source": [
    "The vegan package in R comes with an [example dataset called dune](https://www.rdocumentation.org/packages/vegan/versions/2.6-4/topics/dune), which contains a bunch of data for different plant species. These data are stored in the vegan GitHub repository as rda files, which can be read in a Python environment using the `rdata` Python package. This data has already been scaled and transformed, so requires minimal preprocessing.\n",
    "\n",
    "The `rdata.read_rda` function call below reads in the dataset as a pandas `DataFrame` with taxonomy groups as columns and samples as row indices. "
   ]
  },
  {
   "cell_type": "code",
   "execution_count": 4,
   "metadata": {},
   "outputs": [],
   "source": [
    "dune_df = rdata.read_rda(f'{DATA_DIR}/dune.rda')['dune']\n",
    "dune_metadata_df = rdata.read_rda(f'{DATA_DIR}/dune.env.rda')['dune.env'].rename(columns={c:c.lower() for c in ['A1', 'Moisture', 'Management', 'Use', 'Manure']})"
   ]
  },
  {
   "cell_type": "code",
   "execution_count": 5,
   "metadata": {},
   "outputs": [
    {
     "data": {
      "text/html": [
       "<div>\n",
       "<style scoped>\n",
       "    .dataframe tbody tr th:only-of-type {\n",
       "        vertical-align: middle;\n",
       "    }\n",
       "\n",
       "    .dataframe tbody tr th {\n",
       "        vertical-align: top;\n",
       "    }\n",
       "\n",
       "    .dataframe thead th {\n",
       "        text-align: right;\n",
       "    }\n",
       "</style>\n",
       "<table border=\"1\" class=\"dataframe\">\n",
       "  <thead>\n",
       "    <tr style=\"text-align: right;\">\n",
       "      <th></th>\n",
       "      <th>Achimill</th>\n",
       "      <th>Agrostol</th>\n",
       "      <th>Airaprae</th>\n",
       "      <th>Alopgeni</th>\n",
       "      <th>Anthodor</th>\n",
       "      <th>Bellpere</th>\n",
       "      <th>Bromhord</th>\n",
       "      <th>Chenalbu</th>\n",
       "      <th>Cirsarve</th>\n",
       "      <th>Comapalu</th>\n",
       "      <th>...</th>\n",
       "      <th>Ranuflam</th>\n",
       "      <th>Rumeacet</th>\n",
       "      <th>Sagiproc</th>\n",
       "      <th>Salirepe</th>\n",
       "      <th>Scorautu</th>\n",
       "      <th>Trifprat</th>\n",
       "      <th>Trifrepe</th>\n",
       "      <th>Vicilath</th>\n",
       "      <th>Bracruta</th>\n",
       "      <th>Callcusp</th>\n",
       "    </tr>\n",
       "  </thead>\n",
       "  <tbody>\n",
       "    <tr>\n",
       "      <th>1</th>\n",
       "      <td>1.0</td>\n",
       "      <td>0.0</td>\n",
       "      <td>0.0</td>\n",
       "      <td>0.0</td>\n",
       "      <td>0.0</td>\n",
       "      <td>0.0</td>\n",
       "      <td>0.0</td>\n",
       "      <td>0.0</td>\n",
       "      <td>0.0</td>\n",
       "      <td>0.0</td>\n",
       "      <td>...</td>\n",
       "      <td>0.0</td>\n",
       "      <td>0.0</td>\n",
       "      <td>0.0</td>\n",
       "      <td>0.0</td>\n",
       "      <td>0.0</td>\n",
       "      <td>0.0</td>\n",
       "      <td>0.0</td>\n",
       "      <td>0.0</td>\n",
       "      <td>0.0</td>\n",
       "      <td>0.0</td>\n",
       "    </tr>\n",
       "    <tr>\n",
       "      <th>2</th>\n",
       "      <td>3.0</td>\n",
       "      <td>0.0</td>\n",
       "      <td>0.0</td>\n",
       "      <td>2.0</td>\n",
       "      <td>0.0</td>\n",
       "      <td>3.0</td>\n",
       "      <td>4.0</td>\n",
       "      <td>0.0</td>\n",
       "      <td>0.0</td>\n",
       "      <td>0.0</td>\n",
       "      <td>...</td>\n",
       "      <td>0.0</td>\n",
       "      <td>0.0</td>\n",
       "      <td>0.0</td>\n",
       "      <td>0.0</td>\n",
       "      <td>5.0</td>\n",
       "      <td>0.0</td>\n",
       "      <td>5.0</td>\n",
       "      <td>0.0</td>\n",
       "      <td>0.0</td>\n",
       "      <td>0.0</td>\n",
       "    </tr>\n",
       "    <tr>\n",
       "      <th>3</th>\n",
       "      <td>0.0</td>\n",
       "      <td>4.0</td>\n",
       "      <td>0.0</td>\n",
       "      <td>7.0</td>\n",
       "      <td>0.0</td>\n",
       "      <td>2.0</td>\n",
       "      <td>0.0</td>\n",
       "      <td>0.0</td>\n",
       "      <td>0.0</td>\n",
       "      <td>0.0</td>\n",
       "      <td>...</td>\n",
       "      <td>0.0</td>\n",
       "      <td>0.0</td>\n",
       "      <td>0.0</td>\n",
       "      <td>0.0</td>\n",
       "      <td>2.0</td>\n",
       "      <td>0.0</td>\n",
       "      <td>2.0</td>\n",
       "      <td>0.0</td>\n",
       "      <td>2.0</td>\n",
       "      <td>0.0</td>\n",
       "    </tr>\n",
       "    <tr>\n",
       "      <th>4</th>\n",
       "      <td>0.0</td>\n",
       "      <td>8.0</td>\n",
       "      <td>0.0</td>\n",
       "      <td>2.0</td>\n",
       "      <td>0.0</td>\n",
       "      <td>2.0</td>\n",
       "      <td>3.0</td>\n",
       "      <td>0.0</td>\n",
       "      <td>2.0</td>\n",
       "      <td>0.0</td>\n",
       "      <td>...</td>\n",
       "      <td>0.0</td>\n",
       "      <td>0.0</td>\n",
       "      <td>5.0</td>\n",
       "      <td>0.0</td>\n",
       "      <td>2.0</td>\n",
       "      <td>0.0</td>\n",
       "      <td>1.0</td>\n",
       "      <td>0.0</td>\n",
       "      <td>2.0</td>\n",
       "      <td>0.0</td>\n",
       "    </tr>\n",
       "    <tr>\n",
       "      <th>5</th>\n",
       "      <td>2.0</td>\n",
       "      <td>0.0</td>\n",
       "      <td>0.0</td>\n",
       "      <td>0.0</td>\n",
       "      <td>4.0</td>\n",
       "      <td>2.0</td>\n",
       "      <td>2.0</td>\n",
       "      <td>0.0</td>\n",
       "      <td>0.0</td>\n",
       "      <td>0.0</td>\n",
       "      <td>...</td>\n",
       "      <td>0.0</td>\n",
       "      <td>5.0</td>\n",
       "      <td>0.0</td>\n",
       "      <td>0.0</td>\n",
       "      <td>3.0</td>\n",
       "      <td>2.0</td>\n",
       "      <td>2.0</td>\n",
       "      <td>0.0</td>\n",
       "      <td>2.0</td>\n",
       "      <td>0.0</td>\n",
       "    </tr>\n",
       "  </tbody>\n",
       "</table>\n",
       "<p>5 rows × 30 columns</p>\n",
       "</div>"
      ],
      "text/plain": [
       "   Achimill  Agrostol  Airaprae  Alopgeni  Anthodor  Bellpere  Bromhord  \\\n",
       "1       1.0       0.0       0.0       0.0       0.0       0.0       0.0   \n",
       "2       3.0       0.0       0.0       2.0       0.0       3.0       4.0   \n",
       "3       0.0       4.0       0.0       7.0       0.0       2.0       0.0   \n",
       "4       0.0       8.0       0.0       2.0       0.0       2.0       3.0   \n",
       "5       2.0       0.0       0.0       0.0       4.0       2.0       2.0   \n",
       "\n",
       "   Chenalbu  Cirsarve  Comapalu  ...  Ranuflam  Rumeacet  Sagiproc  Salirepe  \\\n",
       "1       0.0       0.0       0.0  ...       0.0       0.0       0.0       0.0   \n",
       "2       0.0       0.0       0.0  ...       0.0       0.0       0.0       0.0   \n",
       "3       0.0       0.0       0.0  ...       0.0       0.0       0.0       0.0   \n",
       "4       0.0       2.0       0.0  ...       0.0       0.0       5.0       0.0   \n",
       "5       0.0       0.0       0.0  ...       0.0       5.0       0.0       0.0   \n",
       "\n",
       "   Scorautu  Trifprat  Trifrepe  Vicilath  Bracruta  Callcusp  \n",
       "1       0.0       0.0       0.0       0.0       0.0       0.0  \n",
       "2       5.0       0.0       5.0       0.0       0.0       0.0  \n",
       "3       2.0       0.0       2.0       0.0       2.0       0.0  \n",
       "4       2.0       0.0       1.0       0.0       2.0       0.0  \n",
       "5       3.0       2.0       2.0       0.0       2.0       0.0  \n",
       "\n",
       "[5 rows x 30 columns]"
      ]
     },
     "execution_count": 5,
     "metadata": {},
     "output_type": "execute_result"
    }
   ],
   "source": [
    "dune_df.head()"
   ]
  },
  {
   "cell_type": "code",
   "execution_count": 9,
   "metadata": {},
   "outputs": [],
   "source": [
    "# Load the dune data into an CountMatrix object. \n",
    "dune_M = CountMatrix().from_pandas(dune_df)\n",
    "\n",
    "# Make sure there is a serial_code field in the metadata. \n",
    "dune_metadata_df['serial_code'] = dune_metadata_df.index\n",
    "dune_M.metadata = dune_metadata_df"
   ]
  },
  {
   "cell_type": "code",
   "execution_count": 10,
   "metadata": {},
   "outputs": [],
   "source": [
    "# # Slightly concerned by this, as I don't think there should be any empty columns.\n",
    "# # Possibly because two samples are dropped in the setup.ipynb notebook: Dropping 192136 rows in the counts data which do not have associated metadata.\n",
    "# ! python ./scripts/create.py '{DATA_DIR}/data.csv' 'asv_matrix.mtx' -l 'asv' -m '{DATA_DIR}/metadata.csv'"
   ]
  },
  {
   "cell_type": "code",
   "execution_count": 41,
   "metadata": {},
   "outputs": [
    {
     "name": "stdout",
     "output_type": "stream",
     "text": [
      "Square root transformation applied.\n",
      "Wisconsin double standardization applied.\n",
      "Run 0 finished in 2 iterations. Stress: 0.2965475932907039\n",
      "Run 1 finished in 94 iterations. Stress: 0.2526098777008169\n",
      "Run 2 finished in 98 iterations. Stress: 0.10123929133439874\n",
      "New best solution found. Procrustes RMSE: 0.05842528822960793 Procrustes max residual 0.30061319922010504.\n",
      "Run 3 finished in 99 iterations. Stress: 0.1008357310434386\n",
      "New best solution found. Procrustes RMSE: 0.0017710600661918483 Procrustes max residual 0.02014380671784799.\n",
      "Run 4 finished in 115 iterations. Stress: 0.10122604639568085\n",
      "Run 5 finished in 81 iterations. Stress: 0.23597089546884825\n",
      "Run 6 finished in 127 iterations. Stress: 0.10104955288922862\n",
      "Run 7 finished in 200 iterations. Stress: 0.15768124185635946\n",
      "Run 8 finished in 84 iterations. Stress: 0.10056096731599266\n",
      "New best solution found. Procrustes RMSE: 0.006287116555856787 Procrustes max residual 0.06908901181560101.\n",
      "Run 9 finished in 8 iterations. Stress: 0.4126399929074652\n",
      "Run 10 finished in 116 iterations. Stress: 0.09991833975077669\n",
      "New best solution found. Procrustes RMSE: 0.0034044839394482026 Procrustes max residual 0.028729574036627695.\n",
      "Run 11 finished in 67 iterations. Stress: 0.10087181412748887\n",
      "Run 12 finished in 109 iterations. Stress: 0.09996567659388117\n",
      "Run 13 finished in 120 iterations. Stress: 0.09993785127783388\n",
      "Run 14 finished in 85 iterations. Stress: 0.09971003516514362\n",
      "New best solution found. Procrustes RMSE: 0.004607120853014661 Procrustes max residual 0.04763672326662198.\n",
      "Run 15 finished in 133 iterations. Stress: 0.16934459582466885\n",
      "Run 16 finished in 122 iterations. Stress: 0.10087876387427422\n",
      "Run 17 finished in 8 iterations. Stress: 0.4126243824555361\n",
      "Run 18 finished in 9 iterations. Stress: 0.4122304518128124\n",
      "Run 19 finished in 126 iterations. Stress: 0.1988321681916275\n",
      "Run 20 finished in 85 iterations. Stress: 0.10002491272452435\n",
      "Run 21 finished in 181 iterations. Stress: 0.1145557826040347\n",
      "Run 22 finished in 107 iterations. Stress: 0.09965092519036045\n",
      "New best solution found. Procrustes RMSE: 0.0020014495144423765 Procrustes max residual 0.017364281944696566.\n",
      "Run 23 finished in 84 iterations. Stress: 0.099716747590119\n",
      "Run 24 finished in 81 iterations. Stress: 0.09995043842401886\n",
      "Run 25 finished in 10 iterations. Stress: 0.4118439260157111\n",
      "Run 26 finished in 92 iterations. Stress: 0.10442834762831195\n",
      "Run 27 finished in 120 iterations. Stress: 0.10040425478448617\n",
      "Run 28 finished in 119 iterations. Stress: 0.09996490711711017\n",
      "Run 29 finished in 162 iterations. Stress: 0.11534969477245878\n",
      "New best solution is similar to previous best.\n"
     ]
    }
   ],
   "source": [
    "# Load the ASV matrix from the pickle file. Should already have the metadata stored. \n",
    "with open('asv_matrix.mtx', 'rb') as f:\n",
    "    M = pickle.load(f)\n",
    "\n",
    "# data = pd.read_csv(f'{DATA_DIR}/ASVs_counts_Mar2023.tsv', delimiter='\\t', index_col=0)\n",
    "# data = data.drop(columns=['HDK-DNAexNegLot169030916-30cyc', 'HDK22-KML-sand-dry','HDK22-KML-sand-wet', 'HDK-MAR-PCR-BLANK'])\n",
    "# data = data.transpose()\n",
    "# M = CountMatrix(level='asv').from_pandas(data)\n",
    "\n",
    "n_components = 2 \n",
    "model_bray_curtis = NonmetricMultidimensionalScaling(n_components=n_components, metric='bray-curtis', max_tries=200)\n",
    "model_bray_curtis.fit(M)"
   ]
  },
  {
   "cell_type": "code",
   "execution_count": 42,
   "metadata": {},
   "outputs": [
    {
     "data": {
      "text/plain": [
       "0.09965092519036045"
      ]
     },
     "execution_count": 42,
     "metadata": {},
     "output_type": "execute_result"
    }
   ],
   "source": [
    "model_bray_curtis.stress"
   ]
  },
  {
   "cell_type": "code",
   "execution_count": 43,
   "metadata": {},
   "outputs": [
    {
     "data": {
      "image/png": "[encoded data removed]",
      "text/plain": [
       "<Figure size 640x480 with 1 Axes>"
      ]
     },
     "metadata": {},
     "output_type": "display_data"
    }
   ],
   "source": [
    "# model_bray_curtis.plot(colors=dune_M.get_metadata('management'))\n",
    "model_bray_curtis.plot(colors=M.get_metadata('site'))\n"
   ]
  },
  {
   "cell_type": "code",
   "execution_count": null,
   "metadata": {},
   "outputs": [
    {
     "data": {
      "text/plain": [
       "5"
      ]
     },
     "execution_count": 168,
     "metadata": {},
     "output_type": "execute_result"
    }
   ],
   "source": [
    "model_bray_curtis.model.n_iter_"
   ]
  },
  {
   "cell_type": "code",
   "execution_count": null,
   "metadata": {},
   "outputs": [],
   "source": []
  }
 ],
 "metadata": {
  "kernelspec": {
   "display_name": "methanotrophy",
   "language": "python",
   "name": "python3"
  },
  "language_info": {
   "codemirror_mode": {
    "name": "ipython",
    "version": 3
   },
   "file_extension": ".py",
   "mimetype": "text/x-python",
   "name": "python",
   "nbconvert_exporter": "python",
   "pygments_lexer": "ipython3",
   "version": "3.9.18"
  }
 },
 "nbformat": 4,
 "nbformat_minor": 2
}
