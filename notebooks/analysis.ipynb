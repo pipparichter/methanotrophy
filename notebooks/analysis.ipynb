{
 "cells": [
  {
   "cell_type": "markdown",
   "metadata": {},
   "source": [
    "# Methanotrophy"
   ]
  },
  {
   "cell_type": "code",
   "execution_count": 1,
   "metadata": {},
   "outputs": [],
   "source": [
    "%load_ext autoreload\n",
    "%autoreload 2"
   ]
  },
  {
   "cell_type": "code",
   "execution_count": 12,
   "metadata": {},
   "outputs": [],
   "source": [
    "import sys\n",
    "sys.path.append('../')\n",
    "\n",
    "import pandas as pd\n",
    "import numpy as np\n",
    "from utils import * \n",
    "from matrices import *\n",
    "from ordination import *\n",
    "from plotting import *\n",
    "import os"
   ]
  },
  {
   "cell_type": "markdown",
   "metadata": {},
   "source": [
    "## Loading data"
   ]
  },
  {
   "cell_type": "code",
   "execution_count": 3,
   "metadata": {},
   "outputs": [],
   "source": [
    "DATA_DIR = '/home/prichter/Documents/data/methanotrophy'"
   ]
  },
  {
   "cell_type": "code",
   "execution_count": 4,
   "metadata": {},
   "outputs": [
    {
     "name": "stdout",
     "output_type": "stream",
     "text": [
      "Fields in metadata.csv: sample, serial_code, soil_depth, site, season, flux_ch4, temp_air, temp_soil, water_content, bulk_density\n",
      "Fields in counts.tsv: asv, sample, count\n",
      "Fields in taxonomy.tsv: domain, phylum, class, order, family, genus, species, domain_sub, phylum_sub, class_sub, order_sub, family_sub, genus_sub, species_sub, asv\n"
     ]
    }
   ],
   "source": [
    "metadata_df = dataframe_from_metadata(os.path.join(DATA_DIR, 'metadata.csv'))\n",
    "counts_df = dataframe_from_counts(os.path.join(DATA_DIR, 'counts.tsv'))\n",
    "taxonomy_df = dataframe_from_taxonomy(os.path.join(DATA_DIR, 'taxonomy.tsv'))\n",
    "\n",
    "print('Fields in metadata.csv:', ', '.join(metadata_df.columns))\n",
    "print('Fields in counts.tsv:', ', '.join(counts_df.columns))\n",
    "print('Fields in taxonomy.tsv:', ', '.join(taxonomy_df.columns))"
   ]
  },
  {
   "cell_type": "code",
   "execution_count": 5,
   "metadata": {},
   "outputs": [
    {
     "name": "stdout",
     "output_type": "stream",
     "text": [
      "Samples HDK22-KML-sand-dry, HDK22-KML-sand-wet are present in the counts.tsv file, but not in metadata.\n",
      "Dropping 192136 rows in the counts data which do not have associated metadata.\n"
     ]
    }
   ],
   "source": [
    "missing_samples = set(counts_df['sample'].values) - set(metadata_df['sample'].values)\n",
    "print(f\"Samples {', '.join(list(missing_samples))} are present in the counts.tsv file, but not in metadata.\")\n",
    "print(f\"Dropping {counts_df['sample'].isin(missing_samples).values.sum()} rows in the counts data which do not have associated metadata.\" )\n",
    "counts_df = counts_df[~counts_df['sample'].isin(missing_samples)] # Remove rows in counts_df which don't have associated metadata.\n",
    "\n",
    "# Combine the data across files into a single DataFrame. Drop the samples column, which is redundant with the serial code. \n",
    "df = counts_df.merge(metadata_df, on=['sample']).merge(taxonomy_df, on=['asv'], how='left').drop(columns='sample')\n",
    "\n",
    "# Save the cleaned-up data to a CSV file. \n",
    "df.to_csv(f'{DATA_DIR}/data.csv', index=False)"
   ]
  },
  {
   "cell_type": "code",
   "execution_count": 6,
   "metadata": {},
   "outputs": [],
   "source": [
    "def create_asv_matrix(df:pd.DataFrame) -> pd.DataFrame:\n",
    "    '''Convert the DataFrame containing the sample metadata and ASV counts into an ASV table (with columns\n",
    "    as ASVs, and rows as samples). Each cell contains the raw count for that particular ASV in the sample.''' \n",
    "    # Accumulate all of the metadata into a separate DataFrame. \n",
    "    metadata = df[[col for col in df.columns if col not in ['count']]]\n",
    "\n",
    "    df = df[['serial_code', 'asv', 'count']]\n",
    "    df = df.groupby(by=['serial_code', 'asv']).sum()\n",
    "    df = df.reset_index() # Converts the multi-level index to categorical columns. \n",
    "    df = df.pivot(columns=['asv'], index=['serial_code'], values=['count'])\n",
    "    # Reset column labels, which were weird because of the multi-indexing. \n",
    "    df.columns = df.columns.get_level_values('asv').values\n",
    "\n",
    "    return AsvMatrix(df, metadata=metadata)"
   ]
  },
  {
   "cell_type": "markdown",
   "metadata": {},
   "source": [
    "## Analysis\n",
    "\n",
    "### Correspondence Analysis "
   ]
  },
  {
   "cell_type": "code",
   "execution_count": 7,
   "metadata": {},
   "outputs": [
    {
     "name": "stdout",
     "output_type": "stream",
     "text": [
      "matrices.AsvMatrix.filter_read_depth: Discarding 1 samples with read depth less than 5000.\n"
     ]
    },
    {
     "data": {
      "text/plain": [
       "array([65, 66, 67, 68, 69])"
      ]
     },
     "execution_count": 7,
     "metadata": {},
     "output_type": "execute_result"
    }
   ],
   "source": [
    "# Generating the count matrix is currently extremely slow. Possibly a way to speed it up?\n",
    "m = create_asv_matrix(pd.read_csv(f'{DATA_DIR}/data.csv', nrows=1000000))\n",
    "m.filter_read_depth(5000)\n",
    "m.row_labels"
   ]
  },
  {
   "cell_type": "code",
   "execution_count": 8,
   "metadata": {},
   "outputs": [],
   "source": [
    "tm = m.get_taxonomy_matrix()"
   ]
  },
  {
   "cell_type": "code",
   "execution_count": null,
   "metadata": {},
   "outputs": [],
   "source": [
    "ca = CorrespondenceAnalysis()"
   ]
  },
  {
   "cell_type": "markdown",
   "metadata": {},
   "source": [
    "### Which environmental factors are predictive of methane flux?"
   ]
  },
  {
   "cell_type": "code",
   "execution_count": 10,
   "metadata": {},
   "outputs": [],
   "source": [
    "# plot_rarefaction_curves(m, path='/home/prichter/Documents/methanotrophy/figures/rarefaction_curves.png')"
   ]
  },
  {
   "cell_type": "code",
   "execution_count": null,
   "metadata": {},
   "outputs": [],
   "source": []
  }
 ],
 "metadata": {
  "kernelspec": {
   "display_name": "methanotrophy",
   "language": "python",
   "name": "python3"
  },
  "language_info": {
   "codemirror_mode": {
    "name": "ipython",
    "version": 3
   },
   "file_extension": ".py",
   "mimetype": "text/x-python",
   "name": "python",
   "nbconvert_exporter": "python",
   "pygments_lexer": "ipython3",
   "version": "3.9.18"
  }
 },
 "nbformat": 4,
 "nbformat_minor": 2
}
