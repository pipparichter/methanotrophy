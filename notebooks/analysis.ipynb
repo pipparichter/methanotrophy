{
 "cells": [
  {
   "cell_type": "markdown",
   "metadata": {},
   "source": [
    "# Methanotrophy"
   ]
  },
  {
   "cell_type": "code",
   "execution_count": 1,
   "metadata": {},
   "outputs": [],
   "source": [
    "%load_ext autoreload\n",
    "%autoreload 2"
   ]
  },
  {
   "cell_type": "code",
   "execution_count": 2,
   "metadata": {},
   "outputs": [
    {
     "name": "stderr",
     "output_type": "stream",
     "text": [
      "/tmp/ipykernel_243775/3935083250.py:4: DeprecationWarning: \n",
      "Pyarrow will become a required dependency of pandas in the next major release of pandas (pandas 3.0),\n",
      "(to allow more performant data types, such as the Arrow string type, and better interoperability with other libraries)\n",
      "but was not found to be installed on your system.\n",
      "If this would cause problems for you,\n",
      "please provide us feedback at https://github.com/pandas-dev/pandas/issues/54466\n",
      "        \n",
      "  import pandas as pd\n"
     ]
    }
   ],
   "source": [
    "import sys\n",
    "sys.path.append('../')\n",
    "\n",
    "import pandas as pd\n",
    "import numpy as np\n",
    "from utils import * \n",
    "from matrix import *\n",
    "from plot import *\n",
    "import os"
   ]
  },
  {
   "cell_type": "markdown",
   "metadata": {},
   "source": [
    "## Loading data"
   ]
  },
  {
   "cell_type": "code",
   "execution_count": 3,
   "metadata": {},
   "outputs": [],
   "source": [
    "DATA_DIR = '/home/prichter/Documents/data/methanotrophy'"
   ]
  },
  {
   "cell_type": "code",
   "execution_count": 4,
   "metadata": {},
   "outputs": [
    {
     "name": "stdout",
     "output_type": "stream",
     "text": [
      "Fields in metadata.csv: sample, serial_code, soil_depth, site, season, flux_ch4, temp_air, temp_soil, water_content, bulk_density\n",
      "Fields in counts.tsv: asv, sample, count\n",
      "Fields in taxonomy.tsv: domain, phylum, class, order, family, genus, species, domain_sub, phylum_sub, class_sub, order_sub, family_sub, genus_sub, species_sub, asv\n"
     ]
    }
   ],
   "source": [
    "metadata_df = dataframe_from_metadata(os.path.join(DATA_DIR, 'metadata.csv'))\n",
    "counts_df = dataframe_from_counts(os.path.join(DATA_DIR, 'counts.tsv'))\n",
    "taxonomy_df = dataframe_from_taxonomy(os.path.join(DATA_DIR, 'taxonomy.tsv'))\n",
    "\n",
    "print('Fields in metadata.csv:', ', '.join(metadata_df.columns))\n",
    "print('Fields in counts.tsv:', ', '.join(counts_df.columns))\n",
    "print('Fields in taxonomy.tsv:', ', '.join(taxonomy_df.columns))"
   ]
  },
  {
   "cell_type": "code",
   "execution_count": 5,
   "metadata": {},
   "outputs": [
    {
     "name": "stdout",
     "output_type": "stream",
     "text": [
      "Samples HDK22-KML-sand-wet, HDK22-KML-sand-dry are present in the counts.tsv file, but not in metadata.\n",
      "Dropping 192136 rows in the counts data which do not have associated metadata.\n"
     ]
    }
   ],
   "source": [
    "missing_samples = set(counts_df['sample'].values) - set(metadata_df['sample'].values)\n",
    "print(f\"Samples {', '.join(list(missing_samples))} are present in the counts.tsv file, but not in metadata.\")\n",
    "print(f\"Dropping {counts_df['sample'].isin(missing_samples).values.sum()} rows in the counts data which do not have associated metadata.\" )\n",
    "counts_df = counts_df[~counts_df['sample'].isin(missing_samples)] # Remove rows in counts_df which don't have associated metadata.\n",
    "\n",
    "# Combine the data across files into a single DataFrame. Drop the samples column, which is redundant with the serial code. \n",
    "df = counts_df.merge(metadata_df, on=['sample']).merge(taxonomy_df, on=['asv'], how='left').drop(columns='sample')"
   ]
  },
  {
   "cell_type": "markdown",
   "metadata": {},
   "source": [
    "## Analysis\n",
    "\n",
    "### Are there any relationships between taxa and methane flux?"
   ]
  },
  {
   "cell_type": "code",
   "execution_count": 6,
   "metadata": {},
   "outputs": [],
   "source": [
    "# Generating the count matrix is currently extremely slow. Possibly a way to speed it up?\n",
    "m = AsvMatrix(df)"
   ]
  },
  {
   "cell_type": "markdown",
   "metadata": {},
   "source": [
    "### Which environmental factors are predictive of methane flux?"
   ]
  },
  {
   "cell_type": "code",
   "execution_count": 15,
   "metadata": {},
   "outputs": [
    {
     "name": "stderr",
     "output_type": "stream",
     "text": [
      "plot.plot_rarefaction_curves:   0%|          | 0/103 [00:00<?, ?it/s]"
     ]
    },
    {
     "name": "stderr",
     "output_type": "stream",
     "text": [
      "plot.plot_rarefaction_curves:  39%|███▉      | 40/103 [01:34<04:44,  4.51s/it]"
     ]
    }
   ],
   "source": [
    "plot_rarefaction_curves(m, path='/home/prichter/Documents/methanotrophy/figures')"
   ]
  },
  {
   "cell_type": "code",
   "execution_count": null,
   "metadata": {},
   "outputs": [],
   "source": []
  }
 ],
 "metadata": {
  "kernelspec": {
   "display_name": "methanotrophy",
   "language": "python",
   "name": "python3"
  },
  "language_info": {
   "codemirror_mode": {
    "name": "ipython",
    "version": 3
   },
   "file_extension": ".py",
   "mimetype": "text/x-python",
   "name": "python",
   "nbconvert_exporter": "python",
   "pygments_lexer": "ipython3",
   "version": "3.9.18"
  }
 },
 "nbformat": 4,
 "nbformat_minor": 2
}
