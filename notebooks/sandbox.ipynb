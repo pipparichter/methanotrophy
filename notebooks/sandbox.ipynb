{
 "cells": [
  {
   "cell_type": "markdown",
   "metadata": {},
   "source": [
    "# Methanotrophy"
   ]
  },
  {
   "cell_type": "code",
   "execution_count": 1,
   "metadata": {},
   "outputs": [],
   "source": [
    "%load_ext autoreload\n",
    "%autoreload 2"
   ]
  },
  {
   "cell_type": "code",
   "execution_count": 2,
   "metadata": {},
   "outputs": [
    {
     "name": "stderr",
     "output_type": "stream",
     "text": [
      "/tmp/ipykernel_340549/1371887863.py:4: DeprecationWarning: \n",
      "Pyarrow will become a required dependency of pandas in the next major release of pandas (pandas 3.0),\n",
      "(to allow more performant data types, such as the Arrow string type, and better interoperability with other libraries)\n",
      "but was not found to be installed on your system.\n",
      "If this would cause problems for you,\n",
      "please provide us feedback at https://github.com/pandas-dev/pandas/issues/54466\n",
      "        \n",
      "  import pandas as pd\n"
     ]
    }
   ],
   "source": [
    "import sys\n",
    "sys.path.append('../src')\n",
    "\n",
    "import pandas as pd\n",
    "import numpy as np\n",
    "from utils import * \n",
    "from matrix import *\n",
    "from norm import * \n",
    "from ordinate import *\n",
    "from plot import *\n",
    "import os\n",
    "import pickle"
   ]
  },
  {
   "cell_type": "code",
   "execution_count": 3,
   "metadata": {},
   "outputs": [],
   "source": [
    "DATA_DIR = '/home/prichter/Documents/data/methanotrophy'"
   ]
  },
  {
   "cell_type": "markdown",
   "metadata": {},
   "source": [
    "## Loading data"
   ]
  },
  {
   "cell_type": "code",
   "execution_count": 4,
   "metadata": {},
   "outputs": [
    {
     "name": "stdout",
     "output_type": "stream",
     "text": [
      "Fields in metadata.csv: sample, serial_code, soil_depth, site, season, flux_ch4, temp_air, temp_soil, water_content, bulk_density\n",
      "Fields in counts.tsv: asv, sample, count\n",
      "Fields in taxonomy.tsv: domain, phylum, class, order, family, genus, species, domain_sub, phylum_sub, class_sub, order_sub, family_sub, genus_sub, species_sub, asv\n"
     ]
    }
   ],
   "source": [
    "metadata_df = dataframe_from_metadata(os.path.join(DATA_DIR, 'metadata.csv'))\n",
    "counts_df = dataframe_from_counts(os.path.join(DATA_DIR, 'counts.tsv'))\n",
    "taxonomy_df = dataframe_from_taxonomy(os.path.join(DATA_DIR, 'taxonomy.tsv'))\n",
    "\n",
    "print('Fields in metadata.csv:', ', '.join(metadata_df.columns))\n",
    "print('Fields in counts.tsv:', ', '.join(counts_df.columns))\n",
    "print('Fields in taxonomy.tsv:', ', '.join(taxonomy_df.columns))"
   ]
  },
  {
   "cell_type": "code",
   "execution_count": 5,
   "metadata": {},
   "outputs": [
    {
     "name": "stdout",
     "output_type": "stream",
     "text": [
      "Samples HDK22-KML-sand-wet, HDK22-KML-sand-dry are present in the counts.tsv file, but not in metadata.\n",
      "Dropping 192136 rows in the counts data which do not have associated metadata.\n"
     ]
    }
   ],
   "source": [
    "missing_samples = set(counts_df['sample'].values) - set(metadata_df['sample'].values)\n",
    "print(f\"Samples {', '.join(list(missing_samples))} are present in the counts.tsv file, but not in metadata.\")\n",
    "print(f\"Dropping {counts_df['sample'].isin(missing_samples).values.sum()} rows in the counts data which do not have associated metadata.\" )\n",
    "counts_df = counts_df[~counts_df['sample'].isin(missing_samples)] # Remove rows in counts_df which don't have associated metadata.\n",
    "\n",
    "# Combine the data across files into a single DataFrame. Drop the samples column, which is redundant with the serial code. \n",
    "df = counts_df.merge(metadata_df, on=['sample']).merge(taxonomy_df, on=['asv'], how='left').drop(columns='sample')\n",
    "\n",
    "# Save the cleaned-up data to a CSV file. \n",
    "df.to_csv(f'{DATA_DIR}/data.csv', index=False)"
   ]
  },
  {
   "cell_type": "code",
   "execution_count": 4,
   "metadata": {},
   "outputs": [],
   "source": [
    "def create_asv_matrix(df:pd.DataFrame) -> pd.DataFrame:\n",
    "    '''Convert the DataFrame containing the sample metadata and ASV counts into an ASV table (with columns\n",
    "    as ASVs, and rows as samples). Each cell contains the raw count for that particular ASV in the sample.''' \n",
    "    # Accumulate all of the metadata into a separate DataFrame. \n",
    "    metadata = df[[col for col in df.columns if col not in ['count']]]\n",
    "\n",
    "    df = df[['serial_code', 'asv', 'count']]\n",
    "    df = df.groupby(by=['serial_code', 'asv']).sum()\n",
    "    df = df.reset_index() # Converts the multi-level index to categorical columns. \n",
    "    df = df.pivot(columns=['asv'], index=['serial_code'], values=['count'])\n",
    "    # Reset column labels, which were weird because of the multi-indexing. \n",
    "    df.columns = df.columns.get_level_values('asv').values\n",
    "\n",
    "    return AsvMatrix(df, metadata=metadata)"
   ]
  },
  {
   "cell_type": "markdown",
   "metadata": {},
   "source": [
    "## Analysis"
   ]
  },
  {
   "cell_type": "code",
   "execution_count": 6,
   "metadata": {},
   "outputs": [
    {
     "name": "stdout",
     "output_type": "stream",
     "text": [
      "matrices.CountMatrix.filter_read_depth: Discarding 2 samples with read depth less than 5000.\n"
     ]
    },
    {
     "ename": "NameError",
     "evalue": "name 'pickle' is not defined",
     "output_type": "error",
     "traceback": [
      "\u001b[0;31m---------------------------------------------------------------------------\u001b[0m",
      "\u001b[0;31mNameError\u001b[0m                                 Traceback (most recent call last)",
      "Cell \u001b[0;32mIn[6], line 6\u001b[0m\n\u001b[1;32m      3\u001b[0m asv_matrix\u001b[38;5;241m.\u001b[39mfilter_read_depth(\u001b[38;5;241m5000\u001b[39m)\n\u001b[1;32m      5\u001b[0m \u001b[38;5;28;01mwith\u001b[39;00m \u001b[38;5;28mopen\u001b[39m(\u001b[38;5;124m'\u001b[39m\u001b[38;5;124masv_matrix.pkl\u001b[39m\u001b[38;5;124m'\u001b[39m, \u001b[38;5;124m'\u001b[39m\u001b[38;5;124mwb\u001b[39m\u001b[38;5;124m'\u001b[39m) \u001b[38;5;28;01mas\u001b[39;00m f:\n\u001b[0;32m----> 6\u001b[0m     \u001b[43mpickle\u001b[49m\u001b[38;5;241m.\u001b[39mdump(asv_matrix, f)\n",
      "\u001b[0;31mNameError\u001b[0m: name 'pickle' is not defined"
     ]
    }
   ],
   "source": [
    "# Generating the count matrix is currently extremely slow. Possibly a way to speed it up?\n",
    "asv_matrix = create_asv_matrix(pd.read_csv(f'{DATA_DIR}/data.csv'))\n",
    "asv_matrix.filter_read_depth(5000)\n",
    "\n",
    "with open('asv_matrix.pkl', 'wb') as f:\n",
    "    pickle.dump(asv_matrix, f)"
   ]
  },
  {
   "cell_type": "code",
   "execution_count": 12,
   "metadata": {},
   "outputs": [],
   "source": [
    "tm = m.get_taxonomy_matrix()\n",
    "\n",
    "norm = ConstantSumScaling()\n",
    "norm(tm)"
   ]
  },
  {
   "cell_type": "code",
   "execution_count": 13,
   "metadata": {},
   "outputs": [
    {
     "data": {
      "text/plain": [
       "(32, 28)"
      ]
     },
     "execution_count": 13,
     "metadata": {},
     "output_type": "execute_result"
    }
   ],
   "source": [
    "tm.shape()"
   ]
  },
  {
   "cell_type": "code",
   "execution_count": 14,
   "metadata": {},
   "outputs": [],
   "source": [
    "nmds = NonmetricMultidimensionalScaling(n_components=2, metric='bray-curtis')\n",
    "nmds.fit(tm)"
   ]
  },
  {
   "cell_type": "code",
   "execution_count": 16,
   "metadata": {},
   "outputs": [
    {
     "data": {
      "image/png": "[encoded data removed]",
      "text/plain": [
       "<Figure size 640x480 with 1 Axes>"
      ]
     },
     "metadata": {},
     "output_type": "display_data"
    }
   ],
   "source": [
    "plot_nonmetric_multidimensional_scaling(nmds, labels=tm.get_metadata('flux_ch4'))\n",
    "plt.savefig('/home/prichter/Documents/methanotrophy/figures/nmds_flux_ch4.png')"
   ]
  },
  {
   "cell_type": "code",
   "execution_count": 12,
   "metadata": {},
   "outputs": [
    {
     "data": {
      "text/plain": [
       "array(['Abditibacteriota', 'Acidobacteriota', 'Actinobacteriota',\n",
       "       'Amorphea', 'Archaeplastida', 'Armatimonadota', 'Bacteria',\n",
       "       'Bacteroidota', 'Bdellovibrionota', 'Chloroflexi', 'Crenarchaeota',\n",
       "       'Cyanobacteria', 'Deinococcota', 'Dependentiae',\n",
       "       'Desulfobacterota', 'Elusimicrobiota', 'Entotheonellaeota',\n",
       "       'Fibrobacterota', 'Firmicutes', 'Gemmatimonadota', 'Halobacterota',\n",
       "       'Harosa', 'Latescibacterota', 'MBNT15', 'Methylomirabilota',\n",
       "       'Myxococcota', 'Nitrospirota', 'Patescibacteria',\n",
       "       'Planctomycetota', 'Proteobacteria', 'RCP2-54', 'Root',\n",
       "       'Sumerlaeota', 'Thermoplasmatota', 'Verrucomicrobiota', 'WPS-2',\n",
       "       'WS2'], dtype=object)"
      ]
     },
     "execution_count": 12,
     "metadata": {},
     "output_type": "execute_result"
    }
   ],
   "source": [
    "ca.col_label        print(sample_metadata)s"
   ]
  },
  {
   "cell_type": "code",
   "execution_count": null,
   "metadata": {},
   "outputs": [],
   "source": []
  }
 ],
 "metadata": {
  "kernelspec": {
   "display_name": "methanotrophy",
   "language": "python",
   "name": "python3"
  },
  "language_info": {
   "codemirror_mode": {
    "name": "ipython",
    "version": 3
   },
   "file_extension": ".py",
   "mimetype": "text/x-python",
   "name": "python",
   "nbconvert_exporter": "python",
   "pygments_lexer": "ipython3",
   "version": "3.9.18"
  }
 },
 "nbformat": 4,
 "nbformat_minor": 2
}
